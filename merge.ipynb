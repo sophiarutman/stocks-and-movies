{
 "cells": [
  {
   "cell_type": "markdown",
   "metadata": {},
   "source": [
    "# Merge Together the Stock Info"
   ]
  },
  {
   "cell_type": "code",
   "execution_count": 56,
   "metadata": {},
   "outputs": [],
   "source": [
    "import os \n",
    "import pandas as pd\n",
    "import numpy as np \n",
    "from sklearn.preprocessing import LabelEncoder\n"
   ]
  },
  {
   "cell_type": "code",
   "execution_count": 57,
   "metadata": {},
   "outputs": [
    {
     "data": {
      "text/html": [
       "<div>\n",
       "<style scoped>\n",
       "    .dataframe tbody tr th:only-of-type {\n",
       "        vertical-align: middle;\n",
       "    }\n",
       "\n",
       "    .dataframe tbody tr th {\n",
       "        vertical-align: top;\n",
       "    }\n",
       "\n",
       "    .dataframe thead th {\n",
       "        text-align: right;\n",
       "    }\n",
       "</style>\n",
       "<table border=\"1\" class=\"dataframe\">\n",
       "  <thead>\n",
       "    <tr style=\"text-align: right;\">\n",
       "      <th></th>\n",
       "      <th>Date</th>\n",
       "      <th>Open</th>\n",
       "      <th>High</th>\n",
       "      <th>Low</th>\n",
       "      <th>Close</th>\n",
       "      <th>Adj Close</th>\n",
       "      <th>Volume</th>\n",
       "      <th>Stock</th>\n",
       "    </tr>\n",
       "  </thead>\n",
       "  <tbody>\n",
       "    <tr>\n",
       "      <th>0</th>\n",
       "      <td>2012-03-30</td>\n",
       "      <td>7.50</td>\n",
       "      <td>8.24</td>\n",
       "      <td>7.06</td>\n",
       "      <td>7.34</td>\n",
       "      <td>7.34</td>\n",
       "      <td>5048600.0</td>\n",
       "      <td>ENPH</td>\n",
       "    </tr>\n",
       "    <tr>\n",
       "      <th>1</th>\n",
       "      <td>2012-04-02</td>\n",
       "      <td>7.65</td>\n",
       "      <td>8.20</td>\n",
       "      <td>7.40</td>\n",
       "      <td>7.81</td>\n",
       "      <td>7.81</td>\n",
       "      <td>495500.0</td>\n",
       "      <td>ENPH</td>\n",
       "    </tr>\n",
       "    <tr>\n",
       "      <th>2</th>\n",
       "      <td>2012-04-03</td>\n",
       "      <td>7.75</td>\n",
       "      <td>7.80</td>\n",
       "      <td>7.50</td>\n",
       "      <td>7.64</td>\n",
       "      <td>7.64</td>\n",
       "      <td>316600.0</td>\n",
       "      <td>ENPH</td>\n",
       "    </tr>\n",
       "    <tr>\n",
       "      <th>3</th>\n",
       "      <td>2012-04-04</td>\n",
       "      <td>7.77</td>\n",
       "      <td>7.77</td>\n",
       "      <td>7.31</td>\n",
       "      <td>7.45</td>\n",
       "      <td>7.45</td>\n",
       "      <td>165100.0</td>\n",
       "      <td>ENPH</td>\n",
       "    </tr>\n",
       "    <tr>\n",
       "      <th>4</th>\n",
       "      <td>2012-04-05</td>\n",
       "      <td>7.48</td>\n",
       "      <td>7.55</td>\n",
       "      <td>7.37</td>\n",
       "      <td>7.43</td>\n",
       "      <td>7.43</td>\n",
       "      <td>104300.0</td>\n",
       "      <td>ENPH</td>\n",
       "    </tr>\n",
       "  </tbody>\n",
       "</table>\n",
       "</div>"
      ],
      "text/plain": [
       "        Date  Open  High   Low  Close  Adj Close     Volume Stock\n",
       "0 2012-03-30  7.50  8.24  7.06   7.34       7.34  5048600.0  ENPH\n",
       "1 2012-04-02  7.65  8.20  7.40   7.81       7.81   495500.0  ENPH\n",
       "2 2012-04-03  7.75  7.80  7.50   7.64       7.64   316600.0  ENPH\n",
       "3 2012-04-04  7.77  7.77  7.31   7.45       7.45   165100.0  ENPH\n",
       "4 2012-04-05  7.48  7.55  7.37   7.43       7.43   104300.0  ENPH"
      ]
     },
     "execution_count": 57,
     "metadata": {},
     "output_type": "execute_result"
    }
   ],
   "source": [
    "all_data = []\n",
    "\n",
    "\n",
    "for filename in os.listdir(\"data\"):\n",
    "    if filename != \"films_stocks_clean.csv\": \n",
    "        file_path = os.path.join(\"data\", filename)\n",
    "        df = pd.read_csv(file_path)\n",
    "        df[\"Stock\"] = filename[:-4]\n",
    "        all_data.append(df)\n",
    "\n",
    "merged_df = pd.concat(all_data, ignore_index=True)\n",
    "merged_df[\"Date\"] = pd.to_datetime(merged_df[\"Date\"])\n",
    "merged_df.head()"
   ]
  },
  {
   "cell_type": "markdown",
   "metadata": {},
   "source": [
    "# Make movie data mergable"
   ]
  },
  {
   "cell_type": "code",
   "execution_count": 58,
   "metadata": {},
   "outputs": [],
   "source": [
    "\n",
    "df = pd.read_csv(\"movie_data/movies_with_details.csv\")\n",
    "\n",
    "df['Released'] = pd.to_datetime(df['Released'], errors='coerce', dayfirst=False)\n",
    "df['Date'] = df['Released'].dt.strftime('%Y-%m-%d')\n",
    "df = df.drop(columns=['Released'])\n",
    "\n"
   ]
  },
  {
   "cell_type": "markdown",
   "metadata": {},
   "source": [
    "# Merge Stock and Movie Data"
   ]
  },
  {
   "cell_type": "code",
   "execution_count": 59,
   "metadata": {},
   "outputs": [],
   "source": [
    "df['Date'] = pd.to_datetime(df['Date'], errors='coerce')\n",
    "merged_df['Date'] = pd.to_datetime(merged_df['Date'], errors='coerce')\n",
    "\n",
    "df = df[(df['Date'] >= '1999-01-01') & (df['Date'] <= '2019-12-31')]\n",
    "merged_df = merged_df[(merged_df['Date'] >= '1999-01-01') & (merged_df['Date'] <= '2019-12-31')]\n",
    "\n",
    "final_df = pd.merge(merged_df, df, on='Date', how='outer')  # or use 'outer', 'left', etc.\n",
    "df = final_df.dropna()\n",
    "df = df.pivot_table(\n",
    "    index=[col for col in df.columns if col != 'Stock'],  # Keep all columns except 'Stock'\n",
    "    columns='Stock',\n",
    "    aggfunc='size',  # Count occurrences of each stock\n",
    "    fill_value=0  # Fill with 0 where there is no occurrence\n",
    ").reset_index()\n",
    "df = df.drop(columns = [\"Date\", \"Title\", \"Director\", \"Writer\", \"Actors\", \"Awards\", \"Description\", \"Poster URL\"])\n",
    "df['Box Office'] = df['Box Office'].replace({r'[\\$,]': ''}, regex=True).astype(float)\n",
    "df['IMDB Votes'] = df['IMDB Votes'].replace({r'[,]': ''}, regex=True).astype(float)\n",
    "df['Runtime'] = df['Runtime'].str.replace(' min', '', regex=False).astype(float)\n",
    "\n",
    "\n",
    "df = df.rename(columns={'^SPX': 'SPX'})\n",
    "df = df.dropna()\n",
    "\n",
    "columns_to_encode = ['Genre', 'Rated', 'Country', 'Language']\n",
    "encoder = LabelEncoder()\n",
    "for column in columns_to_encode:\n",
    "    df[column] = encoder.fit_transform(df[column])"
   ]
  },
  {
   "cell_type": "code",
   "execution_count": 60,
   "metadata": {},
   "outputs": [],
   "source": [
    "df.to_csv(\"merged_data/merged.csv\")"
   ]
  }
 ],
 "metadata": {
  "kernelspec": {
   "display_name": "Python 3",
   "language": "python",
   "name": "python3"
  },
  "language_info": {
   "codemirror_mode": {
    "name": "ipython",
    "version": 3
   },
   "file_extension": ".py",
   "mimetype": "text/x-python",
   "name": "python",
   "nbconvert_exporter": "python",
   "pygments_lexer": "ipython3",
   "version": "3.11.6"
  }
 },
 "nbformat": 4,
 "nbformat_minor": 2
}
